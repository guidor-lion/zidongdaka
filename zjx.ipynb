{
 "cells": [
  {
   "cell_type": "code",
   "execution_count": 1,
   "metadata": {},
   "outputs": [],
   "source": [
    "import requests\n",
    "#from bs4 import BeautifulSoup\n",
    "import datetime\n"
   ]
  },
  {
   "cell_type": "code",
   "execution_count": 2,
   "metadata": {},
   "outputs": [],
   "source": [
    "url = 'http://ids.hhu.edu.cn/amserver/UI/Login'\n",
    "headers = {\n",
    "    'Accept': 'text/html,application/xhtml+xml,application/xml;q=0.9,image/webp,image/apng,*/*;q=0.8,application/signed-exchange;v=b3;q=0.9',\n",
    "}\n",
    "data = {\n",
    "    'Login.Token1':'1710210231',\n", #！！！！
    "    'Login.Token2':'188019',\n", #！！！！
    "    'goto':'http://my.hhu.edu.cn/loginSuccess.portal',\n",
    "    'gotoOnFail':'http://my.hhu.edu.cn/loginFailure.portal',\n",
    "}\n",
    "\n",
    "date = datetime.datetime.now()\n",
    "datestr = datetime.datetime.strftime(date,'%F')\n",
    "timestr = datetime.datetime.strftime(date,'%H:%M:%S')\n",
    "month = datestr[5:7]\n",
    "day = datestr[8:10]\n",
    "time = timestr"
   ]
  },
  {
   "cell_type": "code",
   "execution_count": 3,
   "metadata": {},
   "outputs": [
    {
     "data": {
      "text/plain": [
       "'<script type=\"text/javascript\">(opener || parent).handleLoginSuccessed();</script>\\n'"
      ]
     },
     "execution_count": 3,
     "metadata": {},
     "output_type": "execute_result"
    }
   ],
   "source": [
    "s = requests.session()\n",
    "r = s.post(url, data=data, headers=headers)\n",
    "r.text\n"
   ]
  },
  {
   "cell_type": "code",
   "execution_count": 4,
   "metadata": {},
   "outputs": [],
   "source": [
    "purl = 'http://form.hhu.edu.cn/pdc/formDesignApi/dataFormSave?wid=A335B048C8456F75E0538101600A6A04&userId=1710210231'\n",
    "pheaders = {\n",
    "    \"Accept\": \"application/json, text/javascript, */*; q=0.01\",\"Accept-Encoding\": \"gzip, deflate\",\"Accept-Language\": \"en-us\",\n",
    "    \"Connection\": \"close\",\n",
    "    \"Content-Type\": \"application/x-www-form-urlencoded; charset=UTF-8\",\n",
    "}\n",
    "pdata = 'DATETIME_CYCLE=2020%2F'+month+'%2F'+day+'&XGH_336526=1710210231&XM_1474=%E8%B5%B5%E7%BB%A7%E8%BD%A9&SFZJH_859173=610522200004188019&SELECT_941320=%E7%90%86%E5%AD%A6%E9%99%A2&SELECT_459666=2017%E7%BA%A7&SELECT_814855=%E8%AE%A1%E7%AE%97&SELECT_525884=%E6%95%B0%E5%AD%A617_2&SELECT_125597=%E6%B1%9F%E5%AE%81%E6%A0%A1%E5%8C%BA%E6%95%99%E5%AD%A6%E5%8C%BA5%E8%88%8D&TEXT_950231=516&TEXT_937296=15639837115&RADIO_853789=%E5%90%A6&RADIO_43840=%E5%90%A6&RADIO_579935=%E5%81%A5%E5%BA%B7&RADIO_138407=%E6%98%AF'\n"
   ]
  },
  {
   "cell_type": "code",
   "execution_count": 5,
   "metadata": {},
   "outputs": [
    {
     "data": {
      "text/plain": [
       "'{\"result\":true}'"
      ]
     },
     "execution_count": 5,
     "metadata": {},
     "output_type": "execute_result"
    }
   ],
   "source": [
    "pr =s.post(purl, data=pdata, headers=pheaders)\n",
    "pr.text\n"
   ]
  },
  {
   "cell_type": "code",
   "execution_count": 6,
   "metadata": {},
   "outputs": [
    {
     "name": "stdout",
     "output_type": "stream",
     "text": [
      "Success!\n"
     ]
    }
   ],
   "source": [
    "if pr.text[10:14]=='true':\n",
    "    print('Success!')"
   ]
  },
  {
   "cell_type": "code",
   "execution_count": null,
   "metadata": {},
   "outputs": [],
   "source": []
  }
 ],
 "metadata": {
  "kernelspec": {
   "display_name": "Python 3",
   "language": "python",
   "name": "python3"
  },
  "language_info": {
   "codemirror_mode": {
    "name": "ipython",
    "version": 3
   },
   "file_extension": ".py",
   "mimetype": "text/x-python",
   "name": "python",
   "nbconvert_exporter": "python",
   "pygments_lexer": "ipython3",
   "version": "3.7.1"
  }
 },
 "nbformat": 4,
 "nbformat_minor": 2
}
